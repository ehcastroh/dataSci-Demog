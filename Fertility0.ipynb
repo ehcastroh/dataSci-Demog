{
 "cells": [
  {
   "cell_type": "markdown",
   "metadata": {},
   "source": [
    "# DRAFT -- comments welcome  cmason@berkeley.edu\n",
    "\n",
    "Demography 88<br>\n",
    "Fall 2017<br>\n",
    "Carl Mason (cmason@berkeley.edu)<br>\n",
    "## Lab 2:  Fertility, immigration and early 20th Century Nativisim\n",
    "\n",
    "##### All answers should be submitted by noon Monday Sept. 16"
   ]
  },
  {
   "cell_type": "code",
   "execution_count": 5,
   "metadata": {},
   "outputs": [
    {
     "name": "stdout",
     "output_type": "stream",
     "text": [
      "HEY! didn't I tell you to put your sid in the obvious place\n"
     ]
    }
   ],
   "source": [
    "# Run this cell to import the stuff we'll need\n",
    "import pandas as pd\n",
    "import numpy as np\n",
    "import matplotlib.pyplot as plt \n",
    "plt.style.use('fivethirtyeight')\n",
    "\n",
    "%matplotlib inline\n",
    "\n",
    "\n",
    "from datascience import Table\n",
    "from datascience.predicates import are\n",
    "from IPython.display import HTML, IFrame, display\n",
    "datasite=\"http://courses.demog.berkeley.edu/mason88/data/\"\n",
    "quizsite=\"http://courses.demog.berkeley.edu/mason88/cgi-bin/quiz.py\"\n",
    "  \n",
    "def cquiz(qno) : \n",
    "    import IPython, requests \n",
    "    try:\n",
    "        sid\n",
    "    except NameError: \n",
    "        print(\"HEY! did you enter your sid way up at the top of this notebook?\")\n",
    "    Linkit='{0}?qno={1}&sid={2}'.format(quizsite,qno,sid)\n",
    "    #print(Linkit)\n",
    "    html = requests.get(Linkit)\n",
    "    display(IFrame(Linkit, 1000, 300))\n",
    "    \n",
    "\n",
    "    \n",
    "######################\n",
    "# Here it is ... the obvious place to put your student id\n",
    "sid=\"\"\n",
    "######################\n",
    "if sid == \"\" :\n",
    "    print(\"HEY! didn't I tell you to put your sid in the obvious place\")\n",
    " "
   ]
  },
  {
   "cell_type": "code",
   "execution_count": 2,
   "metadata": {
    "collapsed": true
   },
   "outputs": [],
   "source": [
    "#HIDE>\n",
    "sid='010183401'\n",
    "#HIDE<"
   ]
  },
  {
   "cell_type": "code",
   "execution_count": null,
   "metadata": {
    "collapsed": true
   },
   "outputs": [],
   "source": [
    "### #### #### ####\n",
    "###  SELECTING  LAB  PARTNERS\n",
    "### ### #### ####\n",
    "\n",
    "N=24\n",
    "numbers=np.arange(N)\n",
    "print(np.mod(N,2))\n",
    "if (not np.mod(N,2) == 0) :\n",
    "    numbers=np.append(numbers,\"lucky\")\n",
    "    N+=1\n",
    "numbersTab=Table().with_column('n',numbers)\n",
    "randomized=numbersTab.sample(k=N,with_replacement=False)\n",
    "selection=randomized['n']\n",
    "selection.shape = (2,int(N/2))\n",
    "Table().with_columns('zero',selection[0],'one',selection[1]).show()"
   ]
  },
  {
   "cell_type": "code",
   "execution_count": 3,
   "metadata": {
    "collapsed": true
   },
   "outputs": [],
   "source": [
    "## Tell us with whom you are partnering today\n"
   ]
  },
  {
   "cell_type": "code",
   "execution_count": 6,
   "metadata": {},
   "outputs": [
    {
     "data": {
      "text/html": [
       "\n",
       "        <iframe\n",
       "            width=\"1000\"\n",
       "            height=\"300\"\n",
       "            src=\"http://courses.demog.berkeley.edu/mason88/cgi-bin/quiz.py?qno=fert0-partners&sid=\"\n",
       "            frameborder=\"0\"\n",
       "            allowfullscreen\n",
       "        ></iframe>\n",
       "        "
      ],
      "text/plain": [
       "<IPython.lib.display.IFrame at 0x105bf1c18>"
      ]
     },
     "metadata": {},
     "output_type": "display_data"
    }
   ],
   "source": [
    "cquiz('fert0-partners')"
   ]
  },
  {
   "cell_type": "markdown",
   "metadata": {},
   "source": [
    "# Part 1 Fertility decline and the rise of early 20th Century nativism\n",
    "\n",
    "We read Francis Walker's article about immigration and it's terrible effects on US born, among which is fertility decline. In part one of today's lab/discussion we will explore the context in which Walker wrote and the subsequent development of a constellation of ideas that resulted in a new rise of a particularly ugly sort of nativism rooted in scientific racism and eugenics. \n",
    "\n",
    "Among the surprising aspects of these developments are that they are driven forward by scientific breakthroughs and leaders of the Progressive Movement.\n",
    "\n",
    "\n",
    "### Outline\n",
    "\n",
    "1. From the 19th to the 20th Century -- fertility decline feeds hostility to immigrants.\n",
    "    1. Francis Walker and the late 19th Century context\n",
    "        1. The Immigration Restriction League\n",
    "        1. Anglo-Saxon \"superiority\"\n",
    "    1. Progressivism and scientific racism in the early 20th Century  \n",
    "        1. Race suicide and eugenics\n",
    "        1. Restrictive immigration legislation\n",
    "1. Fertility in the 21st Century\n",
    "    1. Computing age specific fertility rates and total fertility \n",
    "        1. To take account of/remove the effect of the population age structures\n",
    "        2. To compare the fertility behavior of populations and groups\n",
    "1. Assignment: To assess the extent to which  fertility differences between immigrant and US born women are explainable by factors other than immigrant status .e.g education \n",
    "  \n"
   ]
  },
  {
   "cell_type": "markdown",
   "metadata": {},
   "source": [
    "# Background : The angst filled late 19th Century\n",
    "\n",
    "1. Economic depression of the 1890s\n",
    "    1. Unemployment ~ 18 percent in 1894\n",
    "    1. Labor unrest \n",
    "    1. Anarchists\n",
    "1. Guilded Age inequality\n",
    "1. Turner Hypothesis -- The country is full\n",
    "\n",
    "1. Decline of WASP power\n",
    "    1. Democratic city political machines\n",
    "    1. Highly diverse urban populations\n",
    "        \n",
    "        ==> slow rise of anti-immigrant sentiment\n",
    "        \n",
    "           "
   ]
  },
  {
   "cell_type": "code",
   "execution_count": null,
   "metadata": {
    "collapsed": true
   },
   "outputs": [],
   "source": []
  },
  {
   "cell_type": "code",
   "execution_count": null,
   "metadata": {
    "collapsed": true
   },
   "outputs": [],
   "source": [
    "#HIDE>\n",
    "# Anti immigrant sentiment isn't new:\n",
    "## anti-catholic 1830-60 ; anti-Chinese 1849.. still raging (but there were few chinese ) \n",
    "## but before 20c immigration is still seen as nec in order to fill all that land and all those factories\n",
    "\n",
    "## Walker captures the angst filled sentiment of late 19C wasp-dom\n",
    "\n",
    "## while walker is not the first to declare his anti-immigration position (IRL founded 1890)  his ideas are \n",
    "## milestone in **PROGRESSIVE** thinking\n",
    "\n",
    "\n",
    "#HIDE<"
   ]
  },
  {
   "cell_type": "markdown",
   "metadata": {},
   "source": [
    "### Francis Walker\n",
    "\n",
    "1. Boston patrician family born 1840\n",
    "1. Distinguished civil war veteran\n",
    "1. Scholar of Economics and Military History\n",
    "1. Superintendent of Census of 1870\n",
    "1. President of ASA, AEA, MIT"
   ]
  },
  {
   "cell_type": "markdown",
   "metadata": {},
   "source": [
    "#  Francis Walker makes one of the first argument for immigration restriction.\n",
    "\n",
    "<img src=\"http://courses.demog.berkeley.edu/mason88/images/walker01.jpg\">"
   ]
  },
  {
   "cell_type": "code",
   "execution_count": null,
   "metadata": {
    "collapsed": true
   },
   "outputs": [],
   "source": [
    "#HIDE>\n",
    "# prior to Walker,  there were laws against:\n",
    "#  chinese immigration, \n",
    "#  contract labor, \n",
    "#  loathsome diseases\n",
    "# *BUT ** the strong concensus had been that immigration itself was a good thing -- even at \n",
    "#  the height of the Know-Nothing era (early 1850s) they called only for long waits for \n",
    "#  naturalization. \n",
    "## And Post Civil War -- the anti-catholic sentiment declined in light of heroism and sacrifice\n",
    "# of immigrants and familiarity (rise of 2nd Gen) + powerful politicians.\n",
    "#HIDE<"
   ]
  },
  {
   "cell_type": "markdown",
   "metadata": {},
   "source": [
    "# The progressive movement\n",
    "\n",
    "## A broad and contradictory movement held together by a few ideas:\n",
    "\n",
    "\n",
    "1. Pragmatic optimism :  a belief that experts can fix things.\n",
    "1. Worship of efficiency: \n",
    "    1. Frederick W. Taylor and  \"scientific management\".\n",
    "    1. Big manufacturing enterprises and economies of scale\n",
    "1. Awe of numbers :\n",
    "    1. Immigration restriction league is the first \"think tank\" \n",
    "    1. Dillingham Commission Report (1911)\n",
    "1. Upper Class WASP sensibilities  (not an embrace of diversity)\n",
    "    1. Americanization movement\n",
    "    1. Settlement house movement\n",
    "    \n"
   ]
  },
  {
   "cell_type": "code",
   "execution_count": null,
   "metadata": {
    "collapsed": true
   },
   "outputs": [],
   "source": [
    "#HIDE>\n",
    "# "
   ]
  },
  {
   "cell_type": "markdown",
   "metadata": {},
   "source": [
    "# Early 20th Century\n",
    "\n",
    "\n",
    "\n",
    "### (Overlooking the Chinese case)...After a post Civil War respite-- during which immigrants were mostly welcomed-- economic and social crises in the 1890s sparks a resurgence of anti-immigrant sentiment. \n",
    "\n",
    "### Rediscovery of Gregor Mendel's work impels pretty good scientists towards biologically deterministic ideas. “progressives” embrace science, numbers, and biological determinism AND imperialism, racism and immigration restriction.\n",
    "\n",
    "### Asylum for mankind and equality do poorly during the Progressive Era."
   ]
  },
  {
   "cell_type": "markdown",
   "metadata": {},
   "source": [
    "# Part 2 : Comparing fertility of immigrants and the US born\n",
    "\n",
    "As we discussed in class, fertility and immigration are the only ways that a population can grow.  We also saw the Francis Walker reading,  the degree to which one or the other drives population growth has been a contentious issue in the United States since at least the late 19th Century.  Walker and particularly later writers inspired by him, also drew attention to the fact that immigrant women could have different fertility patterns -- and that above and beyond the effect of immigration itself, would further change both the growth rate and the nature of the populaiton.\n",
    "\n",
    "Then as today,  to people who are concerned about these sorts of issues, being able to characterize fertility patterns in a way that allows us to quantify fertility behavior abstracting from the effects of the population age structure is an important data sciency thing to do.\n",
    "\n",
    "\n",
    "The objectives of this lab are the following:\n",
    "\n",
    "1. To learn how demographers measure fertility in a way that allows us to:\n",
    "    1. Take account of/remove the effect of the population age structures\n",
    "    2. Compare the fertility behavior of populations and groups\n",
    "1. To assess the extent to which  fertility differences between immigrant and US born women are explainable by factors other than immigrant status .e.g education \n",
    "\n",
    "\n",
    " \n",
    "\n",
    "The dataset that we will use today is from the 2015 American Communities Survey (ACS) which is released by the US Census Bureau annually -- sampling is done from the complete list of dwellings/households that the Census Bureau manintains in order to do the decenial census.  To reduce cost while covering the entire country, the ACS does  not use a simple random sample and it follows therefrom that one *SHOULD* always apply sampling weights to all computations using these data.  But we don't have time for that this week.  Since the analysis that we are doing this week will not be materially affected by weights we're going to *pretend* that the data are a simple random sample.  As long as we don't accidently publish our results -- we'll be OK.\n",
    "\n",
    "The source of the dataset that we'll use today is the Integrated Public Use Microseries project (IPUMS) at the Minnesota Population Center.  IPUMS is a magnificent project for young data scientists of all kinds.  You'll hear more about it later,  for now,  here's the citation:\n",
    "\n",
    ">Steven Ruggles, Katie Genadek, Ronald Goeken, Josiah Grover, and Matthew Sobek. Integrated Public Use Microdata Series: Version 6.0 [dataset]. Minneapolis: University of Minnesota, 2015. http://doi.org/10.18128/D010.V6.0.\n",
    "\n",
    "<hr>\n",
    "### NOTE on strategy:\n",
    "Like past labs, this one uses some tools that you have not seen yet in the foundation course.  This can make one a little nervous, but that is not the intent.  While we will spend some time discussing and explaining how the python works -- <b> IT IS NOT NECESSARY that you master it</b>.  The obscure bits of python-that-you-can-learn-about-later  are all wrapped in function. As long as you understand how to *use* the function, it is not necessary to understand how it works.\n"
   ]
  },
  {
   "cell_type": "code",
   "execution_count": 8,
   "metadata": {},
   "outputs": [
    {
     "data": {
      "text/html": [
       "<table border=\"1\" class=\"dataframe\">\n",
       "    <thead>\n",
       "        <tr>\n",
       "            <th>statefip</th> <th>region</th> <th>educ</th> <th>fertyr</th> <th>AGE</th> <th>YRSUSA1</th> <th>citizen</th> <th>race</th> <th>hispan</th> <th>raceEth</th> <th>EDUC</th> <th>CITIZEN</th>\n",
       "        </tr>\n",
       "    </thead>\n",
       "    <tbody>\n",
       "        <tr>\n",
       "            <td>Alabama </td> <td>East South Central Div.</td> <td>5+ years of college</td> <td>No    </td> <td>35  </td> <td>0      </td> <td>US Born                        </td> <td>White      </td> <td>Not Hispanic</td> <td>NH:White</td> <td>11  </td> <td>0      </td>\n",
       "        </tr>\n",
       "    </tbody>\n",
       "        <tr>\n",
       "            <td>Alabama </td> <td>East South Central Div.</td> <td>4 years of college </td> <td>No    </td> <td>25  </td> <td>0      </td> <td>US Born                        </td> <td>White      </td> <td>Not Hispanic</td> <td>NH:White</td> <td>10  </td> <td>0      </td>\n",
       "        </tr>\n",
       "    </tbody>\n",
       "        <tr>\n",
       "            <td>Alabama </td> <td>East South Central Div.</td> <td>5+ years of college</td> <td>No    </td> <td>32  </td> <td>0      </td> <td>US Born                        </td> <td>White      </td> <td>Not Hispanic</td> <td>NH:White</td> <td>11  </td> <td>0      </td>\n",
       "        </tr>\n",
       "    </tbody>\n",
       "        <tr>\n",
       "            <td>Alabama </td> <td>East South Central Div.</td> <td>4 years of college </td> <td>No    </td> <td>27  </td> <td>27     </td> <td>Born abroad of American parents</td> <td>Black/Negro</td> <td>Not Hispanic</td> <td>NH:Black</td> <td>10  </td> <td>1      </td>\n",
       "        </tr>\n",
       "    </tbody>\n",
       "        <tr>\n",
       "            <td>Alabama </td> <td>East South Central Div.</td> <td>Grade 12           </td> <td>No    </td> <td>37  </td> <td>0      </td> <td>US Born                        </td> <td>Black/Negro</td> <td>Not Hispanic</td> <td>NH:Black</td> <td>6   </td> <td>0      </td>\n",
       "        </tr>\n",
       "    </tbody>\n",
       "</table>\n",
       "<p>... (584840 rows omitted)</p"
      ],
      "text/plain": [
       "<IPython.core.display.HTML object>"
      ]
     },
     "metadata": {},
     "output_type": "display_data"
    }
   ],
   "source": [
    "## acquire the data -- US resident women aged 15 to 45 from the 2015 5-year ACS\n",
    "fert=Table().read_table(datasite+\"acsWomen15_45.csv\")\n",
    "fert.show(5)\n",
    "# recode the fertyr column to be 1 if Yes 0 if No\n",
    "\n"
   ]
  },
  {
   "cell_type": "code",
   "execution_count": 9,
   "metadata": {},
   "outputs": [
    {
     "data": {
      "text/plain": [
       "0.058853200420624266"
      ]
     },
     "execution_count": 9,
     "metadata": {},
     "output_type": "execute_result"
    }
   ],
   "source": [
    "# the fert table represents a 1% sample of US resident women aged 15-45 \n",
    "# Consider what the following code might be trying to tell us\n",
    "(fert['fertyr']=='Yes').sum()*(1/.01)  # 5% sample\n",
    "(fert['fertyr']=='Yes').mean()\n",
    "\n"
   ]
  },
  {
   "cell_type": "code",
   "execution_count": 7,
   "metadata": {},
   "outputs": [
    {
     "data": {
      "text/html": [
       "\n",
       "        <iframe\n",
       "            width=\"1000\"\n",
       "            height=\"300\"\n",
       "            src=\"http://courses.demog.berkeley.edu/mason88/cgi-bin/quiz.py?qno=fert0-01&sid=\"\n",
       "            frameborder=\"0\"\n",
       "            allowfullscreen\n",
       "        ></iframe>\n",
       "        "
      ],
      "text/plain": [
       "<IPython.lib.display.IFrame at 0x105c0f828>"
      ]
     },
     "metadata": {},
     "output_type": "display_data"
    }
   ],
   "source": [
    "cquiz('fert0-01')"
   ]
  },
  {
   "cell_type": "markdown",
   "metadata": {},
   "source": [
    "# Exploring the dataset that we just read\n",
    "\n",
    "## fertyr is just one of the variables in the fert dataset.\n",
    "\n",
    "Ther fert dataset contains 584,845 observations each of which represents a US resident woman sampled in a ranomd way. In addition to the fertyr question, respondents were asked about eduction, income, and host of other things. \n",
    "\n",
    "The code below determines which columns in fert are numerical and which are categorical by checking .dtype then for the numerical variables it uses the now perhaps familar .stats() method to compute mean, min and max.  For categorical ones it uses a methoc for a module called 'pandas'.  The method is called .crosstab() and it simply counts up the frequency of each unique value in a categorical variable.  \n",
    "\n",
    "Just try to get the gist of how the code works -- and remember that later in life, when you need to do this sort of thing for yourself... you will have seen it before.\n",
    "\n",
    "For this lab, just scan the result of the code to get a sense of what variables are available\n",
    "and maybe later on,  take a look at documentation which  can be found at http://ipums.org\n",
    "\n",
    "#####  Note that some of the variables in this dataset have lowercase names and some have UPPER case names.  The upper case variables come directly from IPUMS and are encoded as numbers -- whether the values represent quantities e.g. AGE or categories e.g. CITIZEN.   The lower case variables were constructed by your instructor. Generally it was a matter of substituting a meaningful text string in place of an integer -- see for example CITIZEN and citizen.\n",
    "\n"
   ]
  },
  {
   "cell_type": "code",
   "execution_count": 9,
   "metadata": {
    "scrolled": true
   },
   "outputs": [
    {
     "data": {
      "text/html": [
       "<table border=\"1\" class=\"dataframe\">\n",
       "    <thead>\n",
       "        <tr>\n",
       "            <th>statistic</th> <th>AGE</th> <th>YRSUSA1</th> <th>EDUC</th> <th>CITIZEN</th>\n",
       "        </tr>\n",
       "    </thead>\n",
       "    <tbody>\n",
       "        <tr>\n",
       "            <td>min      </td> <td>15         </td> <td>0          </td> <td>0         </td> <td>0      </td>\n",
       "        </tr>\n",
       "    </tbody>\n",
       "        <tr>\n",
       "            <td>max      </td> <td>45         </td> <td>46         </td> <td>11        </td> <td>3      </td>\n",
       "        </tr>\n",
       "    </tbody>\n",
       "        <tr>\n",
       "            <td>median   </td> <td>30         </td> <td>0          </td> <td>7         </td> <td>0      </td>\n",
       "        </tr>\n",
       "    </tbody>\n",
       "        <tr>\n",
       "            <td>sum      </td> <td>1.74789e+07</td> <td>1.42499e+06</td> <td>4.2272e+06</td> <td>229251 </td>\n",
       "        </tr>\n",
       "    </tbody>\n",
       "</table>"
      ],
      "text/plain": [
       "<IPython.core.display.HTML object>"
      ]
     },
     "metadata": {},
     "output_type": "display_data"
    },
    {
     "name": "stdout",
     "output_type": "stream",
     "text": [
      "\n",
      "\n",
      "statefip\n",
      "\n",
      "col_0                 count\n",
      "row_0                      \n",
      "Alabama                8475\n",
      "Alaska                 1222\n",
      "Arizona               12207\n",
      "Arkansas               5204\n",
      "California            75156\n",
      "Colorado              10191\n",
      "Connecticut            6449\n",
      "Delaware               1539\n",
      "District of Columbia   1818\n",
      "Florida               33128\n",
      "Georgia               19077\n",
      "Hawaii                 2601\n",
      "Idaho                  2811\n",
      "Illinois              23841\n",
      "Indiana               12163\n",
      "Iowa                   5434\n",
      "Kansas                 4994\n",
      "Kentucky               7949\n",
      "Louisiana              8148\n",
      "Maine                  1999\n",
      "Maryland              11312\n",
      "Massachusetts         13714\n",
      "Michigan              16956\n",
      "Minnesota              9269\n",
      "Mississippi            5465\n",
      "Missouri              11102\n",
      "Montana                1520\n",
      "Nebraska               3264\n",
      "Nevada                 5101\n",
      "New Hampshire          2226\n",
      "New Jersey            16182\n",
      "New Mexico             3445\n",
      "New York              38060\n",
      "North Carolina        18074\n",
      "North Dakota           1299\n",
      "Ohio                  21250\n",
      "Oklahoma               6966\n",
      "Oregon                 7281\n",
      "Pennsylvania          22533\n",
      "Rhode Island           1957\n",
      "South Carolina         8781\n",
      "South Dakota           1548\n",
      "Tennessee             11978\n",
      "Texas                 50583\n",
      "Utah                   6184\n",
      "Vermont                1041\n",
      "Virginia              16119\n",
      "Washington            13424\n",
      "West Virginia          3082\n",
      "Wisconsin              9711\n",
      "Wyoming                1012\n",
      "\n",
      "\n",
      "region\n",
      "\n",
      "col_0                      count\n",
      "row_0                           \n",
      "East North Central Div.    83921\n",
      "East South Central Div.    33867\n",
      "Middle Atlantic Division   76775\n",
      "Mountain Division          42471\n",
      "New England Division       27386\n",
      "Pacific Division           99684\n",
      "South Atlantic Division   112930\n",
      "West North Central Div.    36910\n",
      "West South Central Div.    70901\n",
      "\n",
      "\n",
      "educ\n",
      "\n",
      "col_0                       count\n",
      "row_0                            \n",
      "1 year of college          102383\n",
      "2 years of college          48589\n",
      "4 years of college         114763\n",
      "5+ years of college         59632\n",
      "Grade 10                    24841\n",
      "Grade 11                    27972\n",
      "Grade 12                   163628\n",
      "Grade 5, 6, 7, or 8         15047\n",
      "Grade 9                     21884\n",
      "N/A or no schooling          4617\n",
      "Nursery school to grade 4    1489\n",
      "\n",
      "\n",
      "fertyr\n",
      "\n",
      "col_0   count\n",
      "row_0        \n",
      "No     550425\n",
      "Yes     34420\n",
      "\n",
      "\n",
      "citizen\n",
      "\n",
      "col_0                             count\n",
      "row_0                                  \n",
      "Born abroad of American parents    6575\n",
      "Naturalized citizen               34556\n",
      "Not a citizen                     51188\n",
      "US Born                          492526\n",
      "\n",
      "\n",
      "race\n",
      "\n",
      "col_0                              count\n",
      "row_0                                   \n",
      "American Indian or Alaska Native    6936\n",
      "Black/Negro                        67274\n",
      "Chinese                             9962\n",
      "Japanese                            1450\n",
      "Other Asian or Pacific Islander    28471\n",
      "Other race, nec                    28115\n",
      "Three or more major races           2311\n",
      "Two major races                    16739\n",
      "White                             423587\n",
      "\n",
      "\n",
      "hispan\n",
      "\n",
      "col_0          count\n",
      "row_0               \n",
      "Cuban           3402\n",
      "Mexican        66179\n",
      "Not Hispanic  481460\n",
      "Other          24322\n",
      "Puerto Rican    9482\n",
      "\n",
      "\n",
      "raceEth\n",
      "\n",
      "col_0        count\n",
      "row_0             \n",
      "Hispanic    103385\n",
      "NH:AsianPI   39324\n",
      "NH:Black     65036\n",
      "NH:Multi     14310\n",
      "NH:Other      7041\n",
      "NH:White    355749\n"
     ]
    }
   ],
   "source": [
    "## Crosstabs and descriptive statistics\n",
    "# don't worry about how this is done -- unless you want to.\n",
    "#  The output is what's important -- it shows frequency counts for the categorical variables\n",
    "#  and descriptive stats for the continuous ones\n",
    "import re\n",
    "import pandas as pd\n",
    "## list of numerical columns\n",
    "## this is so-called list comprehension \n",
    "nums=[i for i in list(fert) if fert[i].dtype == 'int64']\n",
    "## list of categorical columns\n",
    "cats=[i  for i in list(fert) if re.match('\\<',str(fert[i].dtype))]\n",
    "\n",
    "#descriptive statistics for things numerical\n",
    "fert.select(nums).stats().show()\n",
    "#frequencies of things categorical\n",
    "for i in cats:\n",
    "    print(\"\\n\\n\"+i+\"\\n\")\n",
    "    print(pd.crosstab(fert[i],columns=\"count\"))\n",
    "\n"
   ]
  },
  {
   "cell_type": "code",
   "execution_count": 10,
   "metadata": {},
   "outputs": [
    {
     "data": {
      "text/html": [
       "\n",
       "        <iframe\n",
       "            width=\"1000\"\n",
       "            height=\"300\"\n",
       "            src=\"http://courses.demog.berkeley.edu/mason88/cgi-bin/quiz.py?qno=fert0-02&sid=\"\n",
       "            frameborder=\"0\"\n",
       "            allowfullscreen\n",
       "        ></iframe>\n",
       "        "
      ],
      "text/plain": [
       "<IPython.lib.display.IFrame at 0x105c0fc18>"
      ]
     },
     "metadata": {},
     "output_type": "display_data"
    }
   ],
   "source": [
    "cquiz('fert0-02')"
   ]
  },
  {
   "cell_type": "markdown",
   "metadata": {},
   "source": [
    "## Adding some useful recoding  and computing a  birth rate\n",
    "\n",
    "####  In order to work with these data we'll need to change the way the information is stored.  There is some regretably obscure python here,  but your not enthusiastic about mastering it that's ok, you can just knod your head as long as you understand what the code  is supposed to do.\n",
    "\n",
    "First we'll need to do some simple recoding in order to convert some of the variables\n",
    "that we explored above into 1/0 form rather than 'Yes/No' .\n",
    "\n",
    "Then we'll use those new versions of the variables to measure the differnce between immigrant and\n",
    "US born womens' fertility\n",
    "\n",
    "\n",
    "##### A note on the code: \n",
    "\n",
    "This sort of expression....\n",
    "\n",
    "  [x**2 for x in np.arange(10)]\n",
    "  \n",
    "is called, by pythonistas, a \"list comprehnsion\".  the \"list\" part of that phrase is because these structures always\n",
    "produce a list,  and \"comprehension\" follows from  the mathematical concept of a  \"set comprehension\" which is not really important for us right now.  What is important is to understand that a <i>list comprehension</i> is a way of defining the elements of a list in terms of a different list (or sequence).  In the above case the list comprehension defines the resulting list as the square $(x**2)$ of each element of the sequence of integers from 0 to 9 (np.arange(10)).  The 'x' is an arbitrarily chosen symbol which takes on each value of np.arange(10) one at a time.\n",
    "\n",
    "The list comprehensions that we use below are just slightly more complicated in that they have an if/else. List comprehensions can get considerably more complicated. Sorry.\n"
   ]
  },
  {
   "cell_type": "code",
   "execution_count": 14,
   "metadata": {},
   "outputs": [
    {
     "data": {
      "text/plain": [
       "[0, 1, 4, 9, 16, 25, 36, 49, 64, 81]"
      ]
     },
     "execution_count": 14,
     "metadata": {},
     "output_type": "execute_result"
    }
   ],
   "source": [
    "[x**2 for x in np.arange(10)]\n"
   ]
  },
  {
   "cell_type": "code",
   "execution_count": 24,
   "metadata": {},
   "outputs": [
    {
     "data": {
      "text/html": [
       "<table border=\"1\" class=\"dataframe\">\n",
       "    <thead>\n",
       "        <tr>\n",
       "            <th>AGE</th> <th>race</th> <th>fertyr</th> <th>fert10</th> <th>CITIZEN</th> <th>immig</th>\n",
       "        </tr>\n",
       "    </thead>\n",
       "    <tbody>\n",
       "        <tr>\n",
       "            <td>35  </td> <td>White          </td> <td>No    </td> <td>0     </td> <td>0      </td> <td>0    </td>\n",
       "        </tr>\n",
       "    </tbody>\n",
       "        <tr>\n",
       "            <td>25  </td> <td>White          </td> <td>No    </td> <td>0     </td> <td>0      </td> <td>0    </td>\n",
       "        </tr>\n",
       "    </tbody>\n",
       "        <tr>\n",
       "            <td>32  </td> <td>White          </td> <td>No    </td> <td>0     </td> <td>0      </td> <td>0    </td>\n",
       "        </tr>\n",
       "    </tbody>\n",
       "        <tr>\n",
       "            <td>27  </td> <td>Black/Negro    </td> <td>No    </td> <td>0     </td> <td>1      </td> <td>0    </td>\n",
       "        </tr>\n",
       "    </tbody>\n",
       "        <tr>\n",
       "            <td>37  </td> <td>Black/Negro    </td> <td>No    </td> <td>0     </td> <td>0      </td> <td>0    </td>\n",
       "        </tr>\n",
       "    </tbody>\n",
       "        <tr>\n",
       "            <td>18  </td> <td>White          </td> <td>No    </td> <td>0     </td> <td>0      </td> <td>0    </td>\n",
       "        </tr>\n",
       "    </tbody>\n",
       "        <tr>\n",
       "            <td>45  </td> <td>Two major races</td> <td>No    </td> <td>0     </td> <td>0      </td> <td>0    </td>\n",
       "        </tr>\n",
       "    </tbody>\n",
       "        <tr>\n",
       "            <td>43  </td> <td>White          </td> <td>No    </td> <td>0     </td> <td>0      </td> <td>0    </td>\n",
       "        </tr>\n",
       "    </tbody>\n",
       "        <tr>\n",
       "            <td>33  </td> <td>White          </td> <td>No    </td> <td>0     </td> <td>0      </td> <td>0    </td>\n",
       "        </tr>\n",
       "    </tbody>\n",
       "        <tr>\n",
       "            <td>40  </td> <td>Black/Negro    </td> <td>No    </td> <td>0     </td> <td>0      </td> <td>0    </td>\n",
       "        </tr>\n",
       "    </tbody>\n",
       "</table>\n",
       "<p>... (584835 rows omitted)</p"
      ],
      "text/plain": [
       "<IPython.core.display.HTML object>"
      ]
     },
     "metadata": {},
     "output_type": "display_data"
    }
   ],
   "source": [
    "# Yes/No is not as convenient as 1/0 for many purposes\n",
    "fert.append_column('fert10',[ 1 if x==\"Yes\" else 0 for x in fert['fertyr']])\n",
    "# From the above \"exploration\" you can see that citizen has 4 categories\n",
    "# we can map it into 2 categories most easily by  using the numerical version CITIZEN rather\n",
    "# than the string text version, citizen\n",
    "fert.append_column('immig',[1 if x >=2 else 0 for x in fert['CITIZEN']])\n",
    "fert.select(['AGE','race','fertyr','fert10','CITIZEN','immig']).show(10)"
   ]
  },
  {
   "cell_type": "markdown",
   "metadata": {},
   "source": [
    "## Now some questions about what you have just done."
   ]
  },
  {
   "cell_type": "code",
   "execution_count": 13,
   "metadata": {},
   "outputs": [
    {
     "data": {
      "text/html": [
       "\n",
       "        <iframe\n",
       "            width=\"1000\"\n",
       "            height=\"300\"\n",
       "            src=\"http://courses.demog.berkeley.edu/mason88/cgi-bin/quiz.py?qno=fert0-001&sid=\"\n",
       "            frameborder=\"0\"\n",
       "            allowfullscreen\n",
       "        ></iframe>\n",
       "        "
      ],
      "text/plain": [
       "<IPython.lib.display.IFrame at 0x105c0fc18>"
      ]
     },
     "metadata": {},
     "output_type": "display_data"
    }
   ],
   "source": [
    "cquiz('fert0-001')  "
   ]
  },
  {
   "cell_type": "code",
   "execution_count": 19,
   "metadata": {},
   "outputs": [
    {
     "name": "stdout",
     "output_type": "stream",
     "text": [
      "Immigrants:0.07048889718231013 USborn:0.056854223894562426\n"
     ]
    }
   ],
   "source": [
    "## Consider what these two expressions might do\n",
    "brI=np.sum(fert.where('immig',1).column('fert10'))/np.sum(fert['immig']==1)\n",
    "brN=np.sum(fert.where('immig',0).column('fert10'))/np.sum(fert['immig']==0)\n",
    "print('Immigrants:{0} USborn:{1}'.format(brI,brN))"
   ]
  },
  {
   "cell_type": "code",
   "execution_count": 16,
   "metadata": {},
   "outputs": [
    {
     "data": {
      "text/html": [
       "\n",
       "        <iframe\n",
       "            width=\"1000\"\n",
       "            height=\"300\"\n",
       "            src=\"http://courses.demog.berkeley.edu/mason88/cgi-bin/quiz.py?qno=fert0-1&sid=\"\n",
       "            frameborder=\"0\"\n",
       "            allowfullscreen\n",
       "        ></iframe>\n",
       "        "
      ],
      "text/plain": [
       "<IPython.lib.display.IFrame at 0x105bf1c50>"
      ]
     },
     "metadata": {},
     "output_type": "display_data"
    }
   ],
   "source": [
    "cquiz('fert0-1')"
   ]
  },
  {
   "cell_type": "markdown",
   "metadata": {},
   "source": [
    "## Age specific fertility rates\n",
    "\n",
    "We can improve on the above  measures by recognizing the life cycle nature of fertility.  For biological as well as social/economic reasons, women tend to have children in the 20s and 30s and less so in either their teens or 40s.  On a population scale,  this means that populations with relatively more women in their 20s and 30s will tend to have more children then populations with older age structures *even if individuals in those populations behave identically* over their life courses.  \n",
    "\n",
    "So how shall we characterize the age pattern of fertility?  how about by computing a specific fertility rate for each age.  Condsider the following equation:\n",
    "\n",
    "$$ASFR_a=\\frac{births_a}{PYL_a}$$\n",
    "\n",
    "where $ASFR_a$ is the age specific fertility rate of women of age $a$ over a particular period of time -- generally one year;  $births_a$ is the total number of births to all women in the population of age a (during the particular time period) And $PYL_a$  is the sum of the <i> person years lived</i> by women of age $a$ during the period over which the rate is being computed. \n",
    "\n",
    "\n",
    "The person-years lived concept is, what makes the ASFR a *rate* rather than a *probability*.  In the US in the 21st Century for women of childbearing age, there is very little difference between PYL and the number of women alive at the beginning of the year.  In more difficult times (for example nearly all of human history and many poor countries today) maternal death was/is both a social and a statistical problem of heart breaking magnitude.  The former obviously, but the latter because women with higher fertilty were also at greater risk of maternal death.\n",
    "\n",
    "Fortunately in 2015 in the US PYL is quantitatively so close to  the number of women of the particular age at the beginning of the period (assuming that we are computing rates for a single year)  -- that we will simply use that figure in its place.  In other words, what we are going to compute is technically a probability -- that is numerically indistinguishable from a rate.\n",
    "\n",
    "To compute AFSR, we'll break the problem into two pieces: \n",
    "\n",
    "1. The \"numerator\" will be the number of births to women of each age in the population during the year\n",
    "2. The \"denominator\" will be the number of women at risk of giving birth at each age (times 1 year)\n",
    "\n",
    "For each age, the ASFR will be the numerator divided by the denominator."
   ]
  },
  {
   "cell_type": "code",
   "execution_count": 26,
   "metadata": {},
   "outputs": [
    {
     "data": {
      "text/html": [
       "<table border=\"1\" class=\"dataframe\">\n",
       "    <thead>\n",
       "        <tr>\n",
       "            <th>AGE</th> <th>fert10 nansum</th>\n",
       "        </tr>\n",
       "    </thead>\n",
       "    <tbody>\n",
       "        <tr>\n",
       "            <td>15  </td> <td>77           </td>\n",
       "        </tr>\n",
       "    </tbody>\n",
       "        <tr>\n",
       "            <td>16  </td> <td>133          </td>\n",
       "        </tr>\n",
       "    </tbody>\n",
       "        <tr>\n",
       "            <td>17  </td> <td>206          </td>\n",
       "        </tr>\n",
       "    </tbody>\n",
       "        <tr>\n",
       "            <td>18  </td> <td>367          </td>\n",
       "        </tr>\n",
       "    </tbody>\n",
       "        <tr>\n",
       "            <td>19  </td> <td>615          </td>\n",
       "        </tr>\n",
       "    </tbody>\n",
       "        <tr>\n",
       "            <td>20  </td> <td>832          </td>\n",
       "        </tr>\n",
       "    </tbody>\n",
       "        <tr>\n",
       "            <td>21  </td> <td>1035         </td>\n",
       "        </tr>\n",
       "    </tbody>\n",
       "        <tr>\n",
       "            <td>22  </td> <td>1281         </td>\n",
       "        </tr>\n",
       "    </tbody>\n",
       "        <tr>\n",
       "            <td>23  </td> <td>1287         </td>\n",
       "        </tr>\n",
       "    </tbody>\n",
       "        <tr>\n",
       "            <td>24  </td> <td>1467         </td>\n",
       "        </tr>\n",
       "    </tbody>\n",
       "</table>\n",
       "<p>... (21 rows omitted)</p"
      ],
      "text/plain": [
       "<IPython.core.display.HTML object>"
      ]
     },
     "metadata": {},
     "output_type": "display_data"
    }
   ],
   "source": [
    "## the .groups() method divides the table \n",
    "numer=fert.select(['AGE','fert10']).groups(['AGE'],np.nansum)\n",
    "numer.show(10)"
   ]
  },
  {
   "cell_type": "code",
   "execution_count": 27,
   "metadata": {},
   "outputs": [
    {
     "data": {
      "text/html": [
       "<table border=\"1\" class=\"dataframe\">\n",
       "    <thead>\n",
       "        <tr>\n",
       "            <th>AGE</th> <th>fert10 len</th>\n",
       "        </tr>\n",
       "    </thead>\n",
       "    <tbody>\n",
       "        <tr>\n",
       "            <td>15  </td> <td>19240     </td>\n",
       "        </tr>\n",
       "    </tbody>\n",
       "        <tr>\n",
       "            <td>16  </td> <td>19424     </td>\n",
       "        </tr>\n",
       "    </tbody>\n",
       "        <tr>\n",
       "            <td>17  </td> <td>19389     </td>\n",
       "        </tr>\n",
       "    </tbody>\n",
       "        <tr>\n",
       "            <td>18  </td> <td>22403     </td>\n",
       "        </tr>\n",
       "    </tbody>\n",
       "        <tr>\n",
       "            <td>19  </td> <td>21328     </td>\n",
       "        </tr>\n",
       "    </tbody>\n",
       "        <tr>\n",
       "            <td>20  </td> <td>19585     </td>\n",
       "        </tr>\n",
       "    </tbody>\n",
       "        <tr>\n",
       "            <td>21  </td> <td>18723     </td>\n",
       "        </tr>\n",
       "    </tbody>\n",
       "        <tr>\n",
       "            <td>22  </td> <td>17881     </td>\n",
       "        </tr>\n",
       "    </tbody>\n",
       "        <tr>\n",
       "            <td>23  </td> <td>17699     </td>\n",
       "        </tr>\n",
       "    </tbody>\n",
       "        <tr>\n",
       "            <td>24  </td> <td>18068     </td>\n",
       "        </tr>\n",
       "    </tbody>\n",
       "</table>\n",
       "<p>... (21 rows omitted)</p"
      ],
      "text/plain": [
       "<IPython.core.display.HTML object>"
      ]
     },
     "metadata": {},
     "output_type": "display_data"
    }
   ],
   "source": [
    "denom=fert.select(['AGE','fert10']).groups(['AGE'],len)\n",
    "denom.show(10)"
   ]
  },
  {
   "cell_type": "markdown",
   "metadata": {},
   "source": [
    "So now we have a table called 'numer' for numerator and one called 'denom' for no particular reason ;).\n",
    "\n",
    "The next step is to line the two tables up by AGE and dived the 'fert10 nansum' column of 'numer' (number of births) by the 'fert10 len' colun of denom (number of women).  \n",
    "\n",
    "It would be awesome, and frankly not too much to expect, if we could just write\n",
    "$ answer={numer}/{denom}$\n",
    "\n",
    "and wind up with a table of excellent age specific fertility rates.  \n",
    "\n",
    "But alas, it does not work that way in python. \n",
    "\n",
    "There are a few different ways to deal with this:\n",
    "\n",
    "1. We could use nested for: loops in plain old python\n",
    "2. We could do a .join() to zip the tables together \n",
    "\n",
    "The first choice is more straight forward... but only if you already know how for loops work in python. And anyway, the .join trick is a little more elegant, albeit more opaque."
   ]
  },
  {
   "cell_type": "code",
   "execution_count": 28,
   "metadata": {},
   "outputs": [
    {
     "data": {
      "text/html": [
       "<table border=\"1\" class=\"dataframe\">\n",
       "    <thead>\n",
       "        <tr>\n",
       "            <th>AGE</th> <th>fert10 nansum</th> <th>fert10 len</th>\n",
       "        </tr>\n",
       "    </thead>\n",
       "    <tbody>\n",
       "        <tr>\n",
       "            <td>15  </td> <td>77           </td> <td>19240     </td>\n",
       "        </tr>\n",
       "    </tbody>\n",
       "        <tr>\n",
       "            <td>16  </td> <td>133          </td> <td>19424     </td>\n",
       "        </tr>\n",
       "    </tbody>\n",
       "        <tr>\n",
       "            <td>17  </td> <td>206          </td> <td>19389     </td>\n",
       "        </tr>\n",
       "    </tbody>\n",
       "        <tr>\n",
       "            <td>18  </td> <td>367          </td> <td>22403     </td>\n",
       "        </tr>\n",
       "    </tbody>\n",
       "        <tr>\n",
       "            <td>19  </td> <td>615          </td> <td>21328     </td>\n",
       "        </tr>\n",
       "    </tbody>\n",
       "</table>\n",
       "<p>... (26 rows omitted)</p"
      ],
      "text/plain": [
       "<IPython.core.display.HTML object>"
      ]
     },
     "metadata": {},
     "output_type": "display_data"
    },
    {
     "data": {
      "text/html": [
       "<table border=\"1\" class=\"dataframe\">\n",
       "    <thead>\n",
       "        <tr>\n",
       "            <th>AGE</th> <th>fert10 nansum</th> <th>fert10 len</th> <th>rate</th>\n",
       "        </tr>\n",
       "    </thead>\n",
       "    <tbody>\n",
       "        <tr>\n",
       "            <td>15  </td> <td>77           </td> <td>19240     </td> <td>0.00400208</td>\n",
       "        </tr>\n",
       "    </tbody>\n",
       "        <tr>\n",
       "            <td>16  </td> <td>133          </td> <td>19424     </td> <td>0.0068472 </td>\n",
       "        </tr>\n",
       "    </tbody>\n",
       "        <tr>\n",
       "            <td>17  </td> <td>206          </td> <td>19389     </td> <td>0.0106246 </td>\n",
       "        </tr>\n",
       "    </tbody>\n",
       "        <tr>\n",
       "            <td>18  </td> <td>367          </td> <td>22403     </td> <td>0.0163817 </td>\n",
       "        </tr>\n",
       "    </tbody>\n",
       "        <tr>\n",
       "            <td>19  </td> <td>615          </td> <td>21328     </td> <td>0.0288353 </td>\n",
       "        </tr>\n",
       "    </tbody>\n",
       "</table>\n",
       "<p>... (26 rows omitted)</p"
      ],
      "text/plain": [
       "<IPython.core.display.HTML object>"
      ]
     },
     "metadata": {},
     "output_type": "display_data"
    }
   ],
   "source": [
    "ASF=numer.join('AGE',denom)\n",
    "ASF.show(5)\n",
    "ASF.append_column('rate',ASF['fert10 nansum']/ASF['fert10 len'])\n",
    "ASF.show(5)"
   ]
  },
  {
   "cell_type": "code",
   "execution_count": 29,
   "metadata": {},
   "outputs": [
    {
     "data": {
      "image/png": "[encoded data removed]",
      "text/plain": [
       "<matplotlib.figure.Figure at 0x110a504e0>"
      ]
     },
     "metadata": {},
     "output_type": "display_data"
    }
   ],
   "source": [
    "## And of course we can plot the ASF['rate']  with .scatter()\n",
    "ASF.scatter('AGE','rate')"
   ]
  },
  {
   "cell_type": "markdown",
   "metadata": {},
   "source": [
    "##  Reflect a moment on the shape of this graph\n",
    "\n",
    "While it is tempting to think -- hey that's roughly a normal bell-shaped distribution,\n",
    "it really isn't.  The above graph shows the average number of births experienced by women of\n",
    "each age in 2015.  The shape happens to be a normal like shape -- but as we'll soon see, it's just a coincidence in this case.  What this graph is showing is the effect of age on the liklihood that a woman will give birth in a particular year. \n",
    "\n"
   ]
  },
  {
   "cell_type": "markdown",
   "metadata": {},
   "source": [
    "## The Total Fertility Rate \n",
    "\n",
    "the TFR is often referred to as \"the number of children per woman\".  Just like \"life expectency\"  that we enountered last week,  it's more complicated than it seems. Also like life expectency,  there is both a cohort and a period version. We are only looking at the preiod version today since cohort data on fertility is quite rare.\n",
    "\n",
    "Once we have computed the age specific fertility rates,  TFR is quite easy to compute."
   ]
  },
  {
   "cell_type": "code",
   "execution_count": null,
   "metadata": {
    "collapsed": true
   },
   "outputs": [],
   "source": [
    "# TFR stands for 'total fertility rate'  it is easy to compute once\n",
    "# we have an array of age specific fertility rates\n",
    "tfr=np.sum(ASF['rate'])\n",
    "tfr"
   ]
  },
  {
   "cell_type": "code",
   "execution_count": 30,
   "metadata": {},
   "outputs": [
    {
     "data": {
      "text/html": [
       "\n",
       "        <iframe\n",
       "            width=\"1000\"\n",
       "            height=\"300\"\n",
       "            src=\"http://courses.demog.berkeley.edu/mason88/cgi-bin/quiz.py?qno=fert0-04&sid=\"\n",
       "            frameborder=\"0\"\n",
       "            allowfullscreen\n",
       "        ></iframe>\n",
       "        "
      ],
      "text/plain": [
       "<IPython.lib.display.IFrame at 0x11bf1dd68>"
      ]
     },
     "metadata": {},
     "output_type": "display_data"
    }
   ],
   "source": [
    "cquiz('fert0-04') "
   ]
  },
  {
   "cell_type": "markdown",
   "metadata": {},
   "source": []
  },
  {
   "cell_type": "markdown",
   "metadata": {},
   "source": [
    "## Going beyon AGE as a determinant of fertility\n",
    "\n",
    "Age is a very big determinant of fertility behavior.  But there are other factors at play as well. \n",
    "\n",
    "We can learn about these other factors  by grouping our data according to characteristics of women and computing a separate ASF['rate'] for each group.\n",
    "\n",
    "The coding is going to get a little more complicated,  but again -- just understand what the code is supposed to do.  We're going to build a function that encapulates the complexity of but which you can use as tool as long as you understand what it's supposed to do.\n",
    "\n",
    "Let's start with education   "
   ]
  },
  {
   "cell_type": "code",
   "execution_count": null,
   "metadata": {
    "collapsed": true
   },
   "outputs": [],
   "source": [
    "## Below are two lines of code copied from above and modified to group by both AGE and education\n",
    "## You'll need to fill in the ,<WHAT>s in order to make it work\n",
    "numer=fert.select(['AGE','educ','fert10']).groups(['AGE','educ'],<WHAT>)\n",
    "denom=fert.select(['AGE','educ','fert10']).groups(['AGE','educ'],<WHAT>)\n",
    "#######\n",
    "#HINT: the \"<WHAT>\" are the second argument of the .groups() method -- which should be\n",
    "#  the name of a function\n",
    "######"
   ]
  },
  {
   "cell_type": "code",
   "execution_count": 32,
   "metadata": {
    "collapsed": true
   },
   "outputs": [],
   "source": [
    "#HIDE>\n",
    "## Below are two lines of code copied from above and modified to group by both AGE and education\n",
    "## You'll need to fill in the ,<WHAT>s in order to make it work\n",
    "numer=fert.select(['AGE','educ','fert10']).groups(['AGE','educ'],np.nansum)\n",
    "denom=fert.select(['AGE','educ','fert10']).groups(['AGE','educ'],len)\n",
    "#HIDE<"
   ]
  },
  {
   "cell_type": "markdown",
   "metadata": {},
   "source": [
    "##  BECAUSE we are computing both numer and denom by AGE and educ, we'll need to perform  .join() matching on *both* variables.  \n",
    "\n",
    "It is great bummer that the datascience.tables module does not provide this capability.\n",
    "as a kludgy workaround -- that is deeply beneath our dignity -- we'll create a new variable called 'tempJoin that is the concatination of AGE and educ. This will uniquely identify each age/educ combination so that\n",
    "we can do our .join()\n",
    "\n",
    "####  Once again -- just focus on what the code is supposed to do.  We're writing a function so that we don't ever have to confront this problem again\n",
    "\n",
    "Note on the code:\n",
    "\n",
    "In the cell below, we create a function called concat (for concatenate) that simply takes two arguements turns them into strings and pastes them together with a _ in between. If functions are a new idea, then this is good time to ponder concat(). Functions are way of storing  a chunk of code  in such a way that we can reuse \n",
    "that code in other situations. In this case we use .apply() method create a new variable by executing the concat function on each row of fert using  'AGE' and 'educ' as arguments a and b\n",
    "\n",
    "The resulting variable \"tempJoin\" will have a unique value for each combination of AGE and educ and that makes it exactly the thing we need in order .join() numer and denom"
   ]
  },
  {
   "cell_type": "code",
   "execution_count": 33,
   "metadata": {},
   "outputs": [],
   "source": [
    "## Here's the function\n",
    "def concat(a,b):\n",
    "    \"\"\"\n",
    "    expects two arguments which can be turned into str; pastes them together with _ in between\n",
    "    \"\"\"\n",
    "    return(str(a)+'_'+str(b))\n",
    "## and here we use it to creat the tempJoin variable\n",
    "numer.append_column('tempJoin', numer.apply(concat,'AGE','educ'))\n",
    "denom.append_column('tempJoin', denom.apply(concat, 'AGE','educ'))"
   ]
  },
  {
   "cell_type": "code",
   "execution_count": 34,
   "metadata": {
    "collapsed": true
   },
   "outputs": [],
   "source": [
    "#HIDE>\n",
    "## not using this as it is too difficult to explain\n",
    "# numer.append_column('tempJoin',numer.apply(lambda a,e :str(a)+'_'+str(e), 'AGE','educ'))\n",
    "# denom.append_column('tempJoin',denom.apply(lambda a,e :str(a)+'_'+str(e), 'AGE','educ'))\n",
    "#HIDE<"
   ]
  },
  {
   "cell_type": "code",
   "execution_count": 35,
   "metadata": {},
   "outputs": [
    {
     "data": {
      "text/html": [
       "<table border=\"1\" class=\"dataframe\">\n",
       "    <thead>\n",
       "        <tr>\n",
       "            <th>tempJoin</th> <th>AGE</th> <th>educ</th> <th>fert10 nansum</th> <th>fert10 len</th> <th>rate</th>\n",
       "        </tr>\n",
       "    </thead>\n",
       "    <tbody>\n",
       "        <tr>\n",
       "            <td>15_Grade 10           </td> <td>15  </td> <td>Grade 10           </td> <td>14           </td> <td>3019      </td> <td>0.0046373 </td>\n",
       "        </tr>\n",
       "    </tbody>\n",
       "        <tr>\n",
       "            <td>15_Grade 11           </td> <td>15  </td> <td>Grade 11           </td> <td>1            </td> <td>150       </td> <td>0.00666667</td>\n",
       "        </tr>\n",
       "    </tbody>\n",
       "        <tr>\n",
       "            <td>15_Grade 12           </td> <td>15  </td> <td>Grade 12           </td> <td>3            </td> <td>86        </td> <td>0.0348837 </td>\n",
       "        </tr>\n",
       "    </tbody>\n",
       "        <tr>\n",
       "            <td>15_Grade 5, 6, 7, or 8</td> <td>15  </td> <td>Grade 5, 6, 7, or 8</td> <td>26           </td> <td>5409      </td> <td>0.0048068 </td>\n",
       "        </tr>\n",
       "    </tbody>\n",
       "        <tr>\n",
       "            <td>15_Grade 9            </td> <td>15  </td> <td>Grade 9            </td> <td>33           </td> <td>10538     </td> <td>0.00313152</td>\n",
       "        </tr>\n",
       "    </tbody>\n",
       "</table>\n",
       "<p>... (325 rows omitted)</p"
      ],
      "text/plain": [
       "<IPython.core.display.HTML object>"
      ]
     },
     "metadata": {},
     "output_type": "display_data"
    }
   ],
   "source": [
    "## And here is the join\n",
    "ASFeduc=numer.join('tempJoin',denom).drop(['AGE_2','educ_2'])\n",
    "ASFeduc.append_column('rate',ASFeduc['fert10 nansum']/ASFeduc['fert10 len'])\n",
    "ASFeduc.show(5)\n"
   ]
  },
  {
   "cell_type": "code",
   "execution_count": 38,
   "metadata": {},
   "outputs": [
    {
     "data": {
      "image/png": "[encoded data removed]",
      "text/plain": [
       "<matplotlib.figure.Figure at 0x149a373c8>"
      ]
     },
     "metadata": {},
     "output_type": "display_data"
    }
   ],
   "source": [
    "#And we can now graph ASFrate against AGE for each education category\n",
    "ASFeduc.scatter('AGE','rate',colors='educ')"
   ]
  },
  {
   "cell_type": "markdown",
   "metadata": {},
   "source": [
    "## Too much detail\n",
    "\n",
    "It's not easy to see the relationship between education and fertility in this graph because there are too many categories of education. We can at least see the general pattern that fertility rises generally between the ages of 15 and maybe 25 or 30 and then declines.  And if you squint you can see that the light blue dots corresponding to 4 years of college are generally lower than the dots of most other colors.  But it's difficult to see much of a pattern with so many different colored dots.\n",
    "\n",
    "Let's group the education variable in to broader categories in the hopes of seeing something clearer.\n",
    "\n",
    "This also gives us a chance to do all the asfr calculations again "
   ]
  },
  {
   "cell_type": "code",
   "execution_count": 40,
   "metadata": {
    "collapsed": true
   },
   "outputs": [],
   "source": [
    "## Look we're using the same trick as we used above with the concat function to create tempJoin\n",
    "## here we create a function edRecode which takes a single argument 'ed' (which should be fert['educ'])\n",
    "## and sets the value of out according to it.  Then the function returns 'out'. Just as above we use .apply()\n",
    "## to execute the function on the value of educ in each row of fert.\n",
    "\n",
    "\n",
    "def edRecode(ed):\n",
    "    \"\"\"\n",
    "    simple function for recoding educ variable for use in an .apply()\n",
    "    results in 3 levels of ed\n",
    "    \"\"\"\n",
    "    if ed in ['Nursery school to grade 4', 'N/A or no schooling','Grade 9','Grade 5, 6, 7, or 8','Grade 10',\n",
    "             'Grade 11'] :\n",
    "        out='HSdropout'\n",
    "    elif ed == 'Grade 12':\n",
    "        out ='HighSchool'\n",
    "    else:\n",
    "        out=\"SomeCollege\"\n",
    "    return(out)\n",
    "\n",
    "\n",
    "fert.append_column('educ2',fert.apply(edRecode,'educ'))\n"
   ]
  },
  {
   "cell_type": "code",
   "execution_count": 42,
   "metadata": {},
   "outputs": [
    {
     "data": {
      "text/html": [
       "<table border=\"1\" class=\"dataframe\">\n",
       "    <thead>\n",
       "        <tr>\n",
       "            <th>tempJoin</th> <th>AGE</th> <th>educ2</th> <th>fert10 nansum</th> <th>fert10 len</th> <th>rate</th>\n",
       "        </tr>\n",
       "    </thead>\n",
       "    <tbody>\n",
       "        <tr>\n",
       "            <td>15_HSdropout  </td> <td>15  </td> <td>HSdropout  </td> <td>74           </td> <td>19154     </td> <td>0.00386342</td>\n",
       "        </tr>\n",
       "    </tbody>\n",
       "        <tr>\n",
       "            <td>15_HighSchool </td> <td>15  </td> <td>HighSchool </td> <td>3            </td> <td>86        </td> <td>0.0348837 </td>\n",
       "        </tr>\n",
       "    </tbody>\n",
       "        <tr>\n",
       "            <td>16_HSdropout  </td> <td>16  </td> <td>HSdropout  </td> <td>129          </td> <td>19154     </td> <td>0.00673489</td>\n",
       "        </tr>\n",
       "    </tbody>\n",
       "        <tr>\n",
       "            <td>16_HighSchool </td> <td>16  </td> <td>HighSchool </td> <td>4            </td> <td>220       </td> <td>0.0181818 </td>\n",
       "        </tr>\n",
       "    </tbody>\n",
       "        <tr>\n",
       "            <td>16_SomeCollege</td> <td>16  </td> <td>SomeCollege</td> <td>0            </td> <td>50        </td> <td>0         </td>\n",
       "        </tr>\n",
       "    </tbody>\n",
       "</table>\n",
       "<p>... (87 rows omitted)</p"
      ],
      "text/plain": [
       "<IPython.core.display.HTML object>"
      ]
     },
     "metadata": {},
     "output_type": "display_data"
    }
   ],
   "source": [
    "## Copying code from above ... AND changing every instance of educ to educ2\n",
    "\n",
    "numer=fert.select(['AGE','educ2','fert10']).groups(['AGE','educ2'],np.nansum)\n",
    "denom=fert.select(['AGE','educ2','fert10']).groups(['AGE','educ2'],len)\n",
    "numer.append_column('tempJoin',numer.apply(concat, 'AGE','educ2'))\n",
    "denom.append_column('tempJoin',denom.apply(concat, 'AGE','educ2'))\n",
    "\n",
    "ASFeduc2=numer.join('tempJoin',denom).drop(['AGE_2','educ2_2'])\n",
    "ASFeduc2.append_column('rate',ASFeduc2['fert10 nansum']/ASFeduc2['fert10 len'])\n",
    "ASFeduc2.show(5)\n"
   ]
  },
  {
   "cell_type": "code",
   "execution_count": 43,
   "metadata": {},
   "outputs": [
    {
     "data": {
      "image/png": "[encoded data removed]",
      "text/plain": [
       "<matplotlib.figure.Figure at 0x131d30630>"
      ]
     },
     "metadata": {},
     "output_type": "display_data"
    }
   ],
   "source": [
    "#And finally the scatter plot\n",
    "ASFeduc2.scatter('AGE','rate',colors='educ2')"
   ]
  },
  {
   "cell_type": "markdown",
   "metadata": {},
   "source": [
    "# Definitely easier to see whats going on\n",
    "\n",
    "From this plot its clear that education is an important determinant of fertility.  At the very young ages where fertility is quite low, the pattern is unclear because few people under 18 have had a chance to attend college yet. By 25 education levels are fairly stable.\n",
    "\n",
    "But how might we summarize the graph above into a single number that indicates the magnitude of the difference in fertility behavior at different education levels..?\n",
    "\n"
   ]
  },
  {
   "cell_type": "code",
   "execution_count": 44,
   "metadata": {},
   "outputs": [
    {
     "data": {
      "text/html": [
       "\n",
       "        <iframe\n",
       "            width=\"1000\"\n",
       "            height=\"300\"\n",
       "            src=\"http://courses.demog.berkeley.edu/mason88/cgi-bin/quiz.py?qno=fert0-06&sid=\"\n",
       "            frameborder=\"0\"\n",
       "            allowfullscreen\n",
       "        ></iframe>\n",
       "        "
      ],
      "text/plain": [
       "<IPython.lib.display.IFrame at 0x14308e160>"
      ]
     },
     "metadata": {},
     "output_type": "display_data"
    }
   ],
   "source": [
    "cquiz('fert0-06') # This is a tough one"
   ]
  },
  {
   "cell_type": "code",
   "execution_count": 45,
   "metadata": {},
   "outputs": [
    {
     "name": "stdout",
     "output_type": "stream",
     "text": [
      "\n",
      "TFR by education:\n",
      "Some College:1.7334997550613978\n",
      "High Schoo:1.9641973495478962\n",
      "HS Dropout:2.54781441640368\n",
      "\n"
     ]
    }
   ],
   "source": [
    "#HIDE>\n",
    "res=\"\"\"\n",
    "TFR by education:\n",
    "Some College:{0}\n",
    "High Schoo:{1}\n",
    "HS Dropout:{2}\n",
    "\"\"\".format(np.sum(ASFeduc2.where('educ2','SomeCollege').column('rate')),\n",
    "    np.sum(ASFeduc2.where('educ2','HighSchool').column('rate')),\n",
    "    np.sum(ASFeduc2.where('educ2','HSdropout').column('rate')))\n",
    "print(res)\n",
    "#HIDE<"
   ]
  },
  {
   "cell_type": "markdown",
   "metadata": {},
   "source": [
    "## So that's education -- but there are other variables that might make a difference too\n",
    "\n",
    "But let's take a step back and consider how we might make this exercise more efficient -- so that we can easily plot those ASFrate curves for lots of different groups of women.  Do you think we might create a function for this task?\n",
    "\n",
    "Very good!  \n",
    "\n",
    "Let's take the code that we used to create the scatter plot of ASFrate vs AGE above wrap it into a function\n",
    "that we can use to compute our asfr table for **any categorical variable in the fert table**."
   ]
  },
  {
   "cell_type": "code",
   "execution_count": null,
   "metadata": {
    "collapsed": true
   },
   "outputs": [],
   "source": [
    "## Start by copying the entire cell that we used to generate asfr based on educ2 THEN:\n",
    "## 1) add a def function() :   line to indicate that we are creating a function (done)\n",
    "## 2) specify the argument of the function which shall be the categorical variable by which\n",
    "##    we want to disagregate asfr cvar --the role of educ2 in the code (done) See next cell\n",
    "##    for a discussion of the fert=fert bit  no need to worry about it just now.\n",
    "\n",
    "######---------------(Left for you to do )-------------------------------------############\n",
    "## 3) change the educ2 in the code to match the variable name that we selected, cvar \n",
    "##    HIMT:give some thought to how quote marks work\n",
    "#####----------------------------------------------------------------------############\n",
    "## 4) add return statement (done)\n",
    "def genASFR(cvar,fert=fert):\n",
    "    \"\"\"\n",
    "    computes asfr from fert disagregated by categorical varialble cvar\n",
    "    WILL NOT WORK PROPERLY UNTIL 'educ2' is modified see above\n",
    "    \"\"\"\n",
    "    numer=fert.select(['AGE','educ2','fert10']).groups(['AGE','educ2'],np.nansum)\n",
    "    denom=fert.select(['AGE','educ2','fert10']).groups(['AGE','educ2'],len)\n",
    "    #numer.append_column('tempj',numer.apply(lambda a,e :str(a)+'_'+str(e), 'AGE','educ2'))\n",
    "    #denom.append_column('tempj',denom.apply(lambda a,e :str(a)+'_'+str(e), 'AGE','educ2'))\n",
    "    numer.append_column('tempj',numer.apply(lambda a,e :str(a)+'_'+str(e), 'AGE','educ2'))\n",
    "    denom.append_column('tempj',denom.apply(lambda a,e :str(a)+'_'+str(e), 'AGE','educ2'))asfr=numer.join('tempj',denom).drop(['AGE_2','educ2_2'])\n",
    "    #asfr.show(5)\n",
    "    asfr.append_column('rate',asfr['fert10 nansum']/asfr['fert10 len'])\n",
    "    return(asfr)"
   ]
  },
  {
   "cell_type": "code",
   "execution_count": 46,
   "metadata": {
    "collapsed": true
   },
   "outputs": [],
   "source": [
    "#HIDE>\n",
    "## Start by copying the entire cell that we used to generate asfr based on educ2 THEN:\n",
    "## 1) add a def function() :   line to indicate that we are creating a function (done)\n",
    "## 2) specify the argument of the function which shall be the categorical variable by which\n",
    "##    we want to disagregate asfr --the role of educ2 in the code (done)\n",
    "## 3) change the educ2 in the code to match the variable name that we selected, cvar (done)\n",
    "## 4) change name of AGEeduc to 'tempj' not necessary but tidier (done)\n",
    "## 5) add return statement (done)\n",
    "def genASFR(cvar,fert=fert):\n",
    "    \"\"\"\n",
    "    computes asfr from fert disagregated by categorical varialble cvar\n",
    "    WILL NOT WORK PROPERLY UNTIL 'educ2' is modified see above\n",
    "    \"\"\"\n",
    "    numer=fert.select(['AGE',cvar,'fert10']).groups(['AGE',cvar],np.nansum)\n",
    "    denom=fert.select(['AGE',cvar,'fert10']).groups(['AGE',cvar],len)\n",
    "    #numer.append_column('tempj',numer.apply(lambda a,e :str(a)+'_'+str(e), 'AGE',cvar))\n",
    "    #denom.append_column('tempj',denom.apply(lambda a,e :str(a)+'_'+str(e), 'AGE',cvar))\n",
    "    numer.append_column('tempj',numer.apply(concat , 'AGE',cvar))\n",
    "    denom.append_column('tempj',denom.apply(concat, 'AGE',cvar))\n",
    "    asfr=numer.join('tempj',denom).drop(['AGE_2','educ2_2'])\n",
    "    #asfr.show(5)\n",
    "    asfr.append_column('rate',asfr['fert10 nansum']/asfr['fert10 len'])\n",
    "    return(asfr)\n",
    "#HIDE<"
   ]
  },
  {
   "cell_type": "markdown",
   "metadata": {},
   "source": [
    "## So what's with fert=fert ?\n",
    "\n",
    "It is not strictly necessary but it is good practice for a function to *only use data that is passed to it*.\n",
    "The genASFR function can only work if a dataset called 'fert' exists.  But where is it suposed to find fert?  If we left out the fert=fert bit then the function would look for fert in the computing environment--meaning that the user will have to have created a dataset called fert - with the essential columns -- in order for genASFR() to work.  \n",
    "\n",
    "But if a function has pretentions of generality then it should be possible to use it elsewhere -- without knowing what the dataset on which it operates is called. With fert=fert,  the function will look for an argument called \"fert\"and then confusingly/conveniently call it 'fert' and then work with it. If it doesn't find an argument in the call, then it uses the default which is fert.   You might want to bring this up with your instructor if its making your brain hurt -- cause it's kind of important."
   ]
  },
  {
   "cell_type": "code",
   "execution_count": null,
   "metadata": {
    "collapsed": true
   },
   "outputs": [],
   "source": [
    "cquiz('fert0-07')"
   ]
  },
  {
   "cell_type": "code",
   "execution_count": 47,
   "metadata": {},
   "outputs": [
    {
     "data": {
      "image/png": "[encoded data removed]",
      "text/plain": [
       "<matplotlib.figure.Figure at 0x141762160>"
      ]
     },
     "metadata": {},
     "output_type": "display_data"
    }
   ],
   "source": [
    "## try it out on the 'citizen' variable\n",
    "asfr_citz=genASFR('citizen')\n",
    "#NOTE that since the second argument fert has a default value specified... we don't need to include it in the \n",
    "# function call\n",
    "asfr_citz.scatter('AGE','rate',colors='citizen')"
   ]
  },
  {
   "cell_type": "markdown",
   "metadata": {},
   "source": [
    "## On the bright side ... our new genASFR function worked ...right?\n",
    "\n",
    "But once again, we have a plot that could be more useful if the categories were broadened...\n",
    "\n",
    "We've done this drill a few times we'll use a function within .apply() to recode the citizen\n",
    "into Immigrant and USBorn."
   ]
  },
  {
   "cell_type": "code",
   "execution_count": 48,
   "metadata": {},
   "outputs": [
    {
     "data": {
      "text/html": [
       "<table border=\"1\" class=\"dataframe\">\n",
       "    <thead>\n",
       "        <tr>\n",
       "            <th>statefip</th> <th>region</th> <th>educ</th> <th>fertyr</th> <th>AGE</th> <th>YRSUSA1</th> <th>citizen</th> <th>race</th> <th>hispan</th> <th>raceEth</th> <th>EDUC</th> <th>CITIZEN</th> <th>fert10</th> <th>immig</th> <th>educ2</th>\n",
       "        </tr>\n",
       "    </thead>\n",
       "    <tbody>\n",
       "        <tr>\n",
       "            <td>Alabama </td> <td>East South Central Div.</td> <td>5+ years of college</td> <td>No    </td> <td>35  </td> <td>0      </td> <td>US Born                        </td> <td>White      </td> <td>Not Hispanic</td> <td>NH:White</td> <td>11  </td> <td>0      </td> <td>0     </td> <td>USBorn</td> <td>SomeCollege</td>\n",
       "        </tr>\n",
       "    </tbody>\n",
       "        <tr>\n",
       "            <td>Alabama </td> <td>East South Central Div.</td> <td>4 years of college </td> <td>No    </td> <td>25  </td> <td>0      </td> <td>US Born                        </td> <td>White      </td> <td>Not Hispanic</td> <td>NH:White</td> <td>10  </td> <td>0      </td> <td>0     </td> <td>USBorn</td> <td>SomeCollege</td>\n",
       "        </tr>\n",
       "    </tbody>\n",
       "        <tr>\n",
       "            <td>Alabama </td> <td>East South Central Div.</td> <td>5+ years of college</td> <td>No    </td> <td>32  </td> <td>0      </td> <td>US Born                        </td> <td>White      </td> <td>Not Hispanic</td> <td>NH:White</td> <td>11  </td> <td>0      </td> <td>0     </td> <td>USBorn</td> <td>SomeCollege</td>\n",
       "        </tr>\n",
       "    </tbody>\n",
       "        <tr>\n",
       "            <td>Alabama </td> <td>East South Central Div.</td> <td>4 years of college </td> <td>No    </td> <td>27  </td> <td>27     </td> <td>Born abroad of American parents</td> <td>Black/Negro</td> <td>Not Hispanic</td> <td>NH:Black</td> <td>10  </td> <td>1      </td> <td>0     </td> <td>USBorn</td> <td>SomeCollege</td>\n",
       "        </tr>\n",
       "    </tbody>\n",
       "        <tr>\n",
       "            <td>Alabama </td> <td>East South Central Div.</td> <td>Grade 12           </td> <td>No    </td> <td>37  </td> <td>0      </td> <td>US Born                        </td> <td>Black/Negro</td> <td>Not Hispanic</td> <td>NH:Black</td> <td>6   </td> <td>0      </td> <td>0     </td> <td>USBorn</td> <td>HighSchool </td>\n",
       "        </tr>\n",
       "    </tbody>\n",
       "</table>\n",
       "<p>... (584840 rows omitted)</p"
      ],
      "text/plain": [
       "<IPython.core.display.HTML object>"
      ]
     },
     "metadata": {},
     "output_type": "display_data"
    }
   ],
   "source": [
    "## as we did above -- we'll create a function that maps the 4 kinds of citizenship onto a smaller\n",
    "## number of categories (2) and then we'll call that function in a .apply() method nested in an append_collumnt\n",
    "\n",
    "\n",
    "def immigrant(var) :\n",
    "    \"\"\"\n",
    "    maps the variable var onto immigrant or nonimmigrant var needs to be coded like the citizen variable\n",
    "    \"\"\"\n",
    "    if var in ['Born abroad of American parents','US Born'] :\n",
    "        out=\"USBorn\"\n",
    "    elif var in ['Not a citizen', 'Naturalized citizen']:\n",
    "        out=\"Immigrant\"\n",
    "    else :\n",
    "        print('value:{0} is not on the menu'.format(var))\n",
    "    return(out)\n",
    "\n",
    "fert.append_column('immig',fert.apply(immigrant,'citizen'))\n",
    "fert.show(5)\n",
    "    "
   ]
  },
  {
   "cell_type": "code",
   "execution_count": 49,
   "metadata": {},
   "outputs": [
    {
     "data": {
      "image/png": "[encoded data removed]",
      "text/plain": [
       "<matplotlib.figure.Figure at 0x133e6c630>"
      ]
     },
     "metadata": {},
     "output_type": "display_data"
    }
   ],
   "source": [
    "## Then we'll use our genASFR function and draw the scatter\n",
    "ASFcitz=genASFR('immig')\n",
    "ASFcitz.scatter('AGE','rate',colors='immig')"
   ]
  },
  {
   "cell_type": "markdown",
   "metadata": {},
   "source": [
    "## So immigrant status matters too\n",
    "\n",
    "Let's compute the TFRs to compare"
   ]
  },
  {
   "cell_type": "code",
   "execution_count": 50,
   "metadata": {},
   "outputs": [
    {
     "name": "stdout",
     "output_type": "stream",
     "text": [
      "\n",
      "TFRs by immigrant status\n",
      "Immigrants:2.113005419590368\n",
      "US Born:   1.8006468654167775\n",
      "\n"
     ]
    }
   ],
   "source": [
    "out=\"\"\"\n",
    "TFRs by immigrant status\n",
    "Immigrants:{0}\n",
    "US Born:   {1}\n",
    "\"\"\".format(np.sum(ASFcitz.where('immig','Immigrant').column('rate')),\n",
    "           np.sum(ASFcitz.where('immig','USBorn').column('rate')))\n",
    "print(out)"
   ]
  },
  {
   "cell_type": "markdown",
   "metadata": {},
   "source": [
    "## How about the effect of education on fertility\n",
    "\n",
    "Let's flook  at the difference in fertility behavior of immigrants vs US born women of \n",
    "various education levels -- in other words:  are the fertility effects of education the same for immigrant and US born women?"
   ]
  },
  {
   "cell_type": "code",
   "execution_count": 51,
   "metadata": {
    "collapsed": true
   },
   "outputs": [],
   "source": [
    "## NOTE that by feeding genASFR a subset of fert we can compute the ASFrate of immigrants\n",
    "## by education level\n",
    "ASFimmigEduc2=genASFR('educ2',fert=fert.where('immig','Immigrant'))\n",
    "## and of course we can do likewise for US born\n",
    "ASFusbornEduc2=genASFR('educ2',fert=fert.where('immig','USBorn'))"
   ]
  },
  {
   "cell_type": "code",
   "execution_count": 52,
   "metadata": {},
   "outputs": [
    {
     "data": {
      "image/png": "[encoded data removed]",
      "text/plain": [
       "<matplotlib.figure.Figure at 0x133e37390>"
      ]
     },
     "metadata": {},
     "output_type": "display_data"
    },
    {
     "data": {
      "image/png": "[encoded data removed]",
      "text/plain": [
       "<matplotlib.figure.Figure at 0x133e37470>"
      ]
     },
     "metadata": {},
     "output_type": "display_data"
    }
   ],
   "source": [
    "##  And the scatter plots\n",
    "ASFusbornEduc2.scatter('AGE','rate',colors='educ2')\n",
    "ASFimmigEduc2.scatter('AGE','rate',colors='educ2')"
   ]
  },
  {
   "cell_type": "markdown",
   "metadata": {},
   "source": [
    "## And finally we are in a position to answer the question first posed:\n",
    "\n",
    "#### Does education alone explain the fertility difference between immigrant and US born women?\n",
    "\n",
    "To answer the question we'll compute the TFRs of six distinct groups of women:\n",
    "\n",
    "US born with Some college, US born with High School only, US born without High School\n",
    "and the corresponding three for immigrant women.\n",
    "\n",
    "#### review of what we have learned so far:\n",
    "\n",
    "We learned very early in this lab that there is a difference in the average number of times that immigrant and US women gave birth in 2015. Specifically:\n",
    "\n",
    "<pre>\n",
    "Immigrants:0.07048889718231013 USborn:0.056854223894562426\n",
    "</pre>\n",
    "\n",
    "We later computed the ASFRs and  TFRs of the two groups and found:\n",
    "<pre>\n",
    "TFRs by immigrant status\n",
    "Immigrants:2.113005419590368\n",
    "US Born:   1.8006468654167775\n",
    "</pre>\n",
    "\n",
    "which tells us that it is NOT simply a matter of the age distribution -- meaning it is not just that immigrant women happen to be of the ages when women give birth most frequently.\n",
    "\n",
    "But we also computed TFRs for women by education status and we found that education also matters quite a lot -- with less educated women generally having higher fertility.\n",
    "\n",
    "<pre>\n",
    "TFR by education:\n",
    "Some College:1.7334997550613978\n",
    "High Schoo:1.9641973495478962\n",
    "HS Dropout:2.54781441640368\n",
    "</pre>\n",
    "\n",
    "So now the question becomes:  is it possible to \"explain\" the difference in fertility between immigrant and US born women as simply an 'artifact' of a difference in education levels -- in other words,  could it be that immigrant women have more babies (at each age) just because they have less education ? in other words could it be that the fertility differences observed between immigrant and US born women are really just the fertility differences that we observed between more and less educated women?\n",
    "\n",
    "### The final challenge of this lab is to answer that question:  Is it possible to explain the difference between the fertilities of US born and immigrant women as simply an artifact of the difference in education levels?\n",
    "\n",
    "HINT: your instructor believes that the TFR of US born women with less than a highschool education is 2.33819.\n"
   ]
  },
  {
   "cell_type": "code",
   "execution_count": 55,
   "metadata": {},
   "outputs": [
    {
     "data": {
      "text/html": [
       "<table border=\"1\" class=\"dataframe\">\n",
       "    <thead>\n",
       "        <tr>\n",
       "            <th>educ2</th> <th>rate nansum</th>\n",
       "        </tr>\n",
       "    </thead>\n",
       "    <tbody>\n",
       "        <tr>\n",
       "            <td>HSdropout  </td> <td>2.33819    </td>\n",
       "        </tr>\n",
       "    </tbody>\n",
       "        <tr>\n",
       "            <td>HighSchool </td> <td>1.88356    </td>\n",
       "        </tr>\n",
       "    </tbody>\n",
       "        <tr>\n",
       "            <td>SomeCollege</td> <td>1.71167    </td>\n",
       "        </tr>\n",
       "    </tbody>\n",
       "</table>"
      ],
      "text/plain": [
       "<IPython.core.display.HTML object>"
      ]
     },
     "metadata": {},
     "output_type": "display_data"
    },
    {
     "data": {
      "text/html": [
       "<table border=\"1\" class=\"dataframe\">\n",
       "    <thead>\n",
       "        <tr>\n",
       "            <th>educ2</th> <th>rate nansum</th>\n",
       "        </tr>\n",
       "    </thead>\n",
       "    <tbody>\n",
       "        <tr>\n",
       "            <td>HSdropout  </td> <td>2.85371    </td>\n",
       "        </tr>\n",
       "    </tbody>\n",
       "        <tr>\n",
       "            <td>HighSchool </td> <td>2.32445    </td>\n",
       "        </tr>\n",
       "    </tbody>\n",
       "        <tr>\n",
       "            <td>SomeCollege</td> <td>1.81583    </td>\n",
       "        </tr>\n",
       "    </tbody>\n",
       "</table>"
      ],
      "text/plain": [
       "<IPython.core.display.HTML object>"
      ]
     },
     "metadata": {},
     "output_type": "display_data"
    }
   ],
   "source": [
    "#HIDE>\n",
    "ASFusbornEduc2.select('educ2','rate').groups('educ2',collect=np.nansum).show()\n",
    "ASFimmigEduc2.select('educ2','rate').groups('educ2',collect=np.nansum).show()\n",
    "#HIDE<"
   ]
  },
  {
   "cell_type": "code",
   "execution_count": 61,
   "metadata": {},
   "outputs": [
    {
     "data": {
      "text/html": [
       "\n",
       "        <iframe\n",
       "            width=\"1000\"\n",
       "            height=\"300\"\n",
       "            src=\"http://courses.demog.berkeley.edu/mason88/cgi-bin/quiz.py?qno=fert0-07&sid=\"\n",
       "            frameborder=\"0\"\n",
       "            allowfullscreen\n",
       "        ></iframe>\n",
       "        "
      ],
      "text/plain": [
       "<IPython.lib.display.IFrame at 0x133229400>"
      ]
     },
     "metadata": {},
     "output_type": "display_data"
    }
   ],
   "source": [
    "cquiz('fert0-07')"
   ]
  },
  {
   "cell_type": "code",
   "execution_count": 57,
   "metadata": {},
   "outputs": [
    {
     "data": {
      "text/html": [
       "\n",
       "        <iframe\n",
       "            width=\"1000\"\n",
       "            height=\"300\"\n",
       "            src=\"http://courses.demog.berkeley.edu/mason88/cgi-bin/quiz.py?qno=fert0-rate&sid=\"\n",
       "            frameborder=\"0\"\n",
       "            allowfullscreen\n",
       "        ></iframe>\n",
       "        "
      ],
      "text/plain": [
       "<IPython.lib.display.IFrame at 0x14d8cca20>"
      ]
     },
     "metadata": {},
     "output_type": "display_data"
    }
   ],
   "source": [
    "cquiz('fert0-rate')"
   ]
  },
  {
   "cell_type": "markdown",
   "metadata": {},
   "source": [
    "## That's it for this week's lab ... now on to the reading\n",
    "\n",
    "The reading for Tuesday is "
   ]
  }
 ],
 "metadata": {
  "kernelspec": {
   "display_name": "Python 3",
   "language": "python",
   "name": "python3"
  },
  "language_info": {
   "codemirror_mode": {
    "name": "ipython",
    "version": 3
   },
   "file_extension": ".py",
   "mimetype": "text/x-python",
   "name": "python",
   "nbconvert_exporter": "python",
   "pygments_lexer": "ipython3",
   "version": "3.6.1"
  }
 },
 "nbformat": 4,
 "nbformat_minor": 2
}
